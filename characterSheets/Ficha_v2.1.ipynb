{
  "nbformat": 4,
  "nbformat_minor": 0,
  "metadata": {
    "kernelspec": {
      "display_name": "Python 3",
      "language": "python",
      "name": "python3"
    },
    "language_info": {
      "codemirror_mode": {
        "name": "ipython",
        "version": 3
      },
      "file_extension": ".py",
      "mimetype": "text/x-python",
      "name": "python",
      "nbconvert_exporter": "python",
      "pygments_lexer": "ipython3",
      "version": "3.8.3"
    },
    "colab": {
      "name": "Ficha v2.0.ipynb",
      "provenance": [],
      "collapsed_sections": []
    }
  },
  "cells": [
    {
      "cell_type": "code",
      "metadata": {
        "id": "2TwutXqVekmM"
      },
      "source": [
        "#Uploading used libraries\n",
        "import requests\n",
        "import json\n",
        "import random\n",
        "import math"
      ],
      "execution_count": 1,
      "outputs": []
    },
    {
      "cell_type": "code",
      "metadata": {
        "id": "iw9-S163Ix7K"
      },
      "source": [
        "#Create variable to save the URL from API\r\n",
        "url = 'https://www.dnd5eapi.co'"
      ],
      "execution_count": 2,
      "outputs": []
    },
    {
      "cell_type": "code",
      "metadata": {
        "id": "bYOQyCJUekoG"
      },
      "source": [
        "#Create a json for the character sheet\n",
        "character = json.loads('{\"character_name\":\"string\",\"race\":{},\"subrace\":{},'+\n",
        "                       '\"ability\":['+\n",
        "                       '{\"ability_score\":{\"index\":\"str\",\"name\":\"Strength\",\"url\":\"/api/ability-scores/str\"},\"value\":0,\"bonus\":0},'+\n",
        "                       '{\"ability_score\":{\"index\":\"dex\",\"name\":\"Dexterity\",\"url\":\"/api/ability-scores/dex\"},\"value\":0,\"bonus\":0},'+\n",
        "                       '{\"ability_score\":{\"index\":\"con\",\"name\":\"Constitution\",\"url\":\"/api/ability-scores/con\"},\"value\":0,\"bonus\":0},'+\n",
        "                       '{\"ability_score\":{\"index\":\"int\",\"name\":\"Intelligence\",\"url\":\"/api/ability-scores/int\"},\"value\":0,\"bonus\":0},'+\n",
        "                       '{\"ability_score\":{\"index\":\"wis\",\"name\":\"Wisdom\",\"url\":\"/api/ability-scores/wis\"},\"value\":0,\"bonus\":0},'+\n",
        "                       '{\"ability_score\":{\"index\":\"cha\",\"name\":\"Charisma\",\"url\":\"/api/ability-scores/cha\"},\"value\":0,\"bonus\":0}],'+\n",
        "                       '\"speed\":0,\"alignment\":\"string\",\"size\":\"string\",\"proficiencies\":[],\"languages\":[],\"skills\":[],\"traits\":[],\"classes\":{},'+\n",
        "                       '\"hit_die\":[],\"hit_points\":0,\"experience_points\":0,\"armor_class\":0,\"stats\":[],\"initiative\":0,\"saving_throws\":[],\"equipment\":[]}')"
      ],
      "execution_count": 188,
      "outputs": []
    },
    {
      "cell_type": "markdown",
      "metadata": {
        "id": "mDuYakqZJoXY"
      },
      "source": [
        "#Functions"
      ]
    },
    {
      "cell_type": "markdown",
      "metadata": {
        "id": "-pmttJOg92TU"
      },
      "source": [
        "##Others"
      ]
    },
    {
      "cell_type": "code",
      "metadata": {
        "id": "Nf4iLENmxHq_"
      },
      "source": [
        "#Function call the url and convert to a json file\r\n",
        "def call(url):\r\n",
        "  r = requests.get(url)\r\n",
        "  return json.loads(r.text)"
      ],
      "execution_count": 166,
      "outputs": []
    },
    {
      "cell_type": "code",
      "metadata": {
        "id": "tykJhjr1L5st"
      },
      "source": [
        "#Funcition selector of race and class\r\n",
        "def selection(index, List):\r\n",
        "  for item in List:\r\n",
        "    print(item['name'])\r\n",
        "\r\n",
        "  selected = int(input('Choose your character '+ index + ' from the list above, select using the index number: '))\r\n",
        "  character[index] =  List[selected]\r\n",
        "  jason = call(url + character[index]['url'])\r\n",
        "\r\n",
        "  return jason"
      ],
      "execution_count": 167,
      "outputs": []
    },
    {
      "cell_type": "code",
      "metadata": {
        "id": "jcXStkE9Gref"
      },
      "source": [
        "#Function for add skills and proficiencies in the character sheet\r\n",
        "def add_select_prof(index,id):\r\n",
        "  if index in jason:\r\n",
        "    if id == '':\r\n",
        "      List = jason[index]['from']\r\n",
        "      choose = jason[index]['choose']\r\n",
        "    \r\n",
        "    else:\r\n",
        "      List = jason[index][id]['from']\r\n",
        "      choose = jason[index][id]['choose']\r\n",
        "\r\n",
        "    for item in List:\r\n",
        "      if character['skills'] != []:\r\n",
        "        for item1 in character['skills']:\r\n",
        "          if item1['skill']['index'] != item['index']:\r\n",
        "            print(item['name'])\r\n",
        "      \r\n",
        "      else:\r\n",
        "        print(item['name'])\r\n",
        "\r\n",
        "    for num in range(choose):\r\n",
        "      selected = int(input('Choose ' + str(choose) + ' items in the list above: '))\r\n",
        "      if List[selected]['index'][0:5] == 'skill':\r\n",
        "        skill = {'skill': List[selected], 'bonus': 0}\r\n",
        "        character['skills'].append(skill)\r\n",
        "      \r\n",
        "      else:\r\n",
        "        character['proficiencies'].append(List[selected])"
      ],
      "execution_count": 168,
      "outputs": []
    },
    {
      "cell_type": "code",
      "metadata": {
        "id": "hQ5h54tZOCN3"
      },
      "source": [
        "#Function to select equipment from some categories\r\n",
        "def category(option, choose):\r\n",
        "  js = call(url + option)\r\n",
        "  List = []\r\n",
        "  for item in js['equipment']:\r\n",
        "    print(item['name'])\r\n",
        "  \r\n",
        "  for num in range(choose):\r\n",
        "    selected = int(input('Choose ' + str(choose) + ' equipment from the list above: '))\r\n",
        "    List.append({'equipment': js['equipment'][selected],'quantity': 1})\r\n",
        "  return List"
      ],
      "execution_count": 169,
      "outputs": []
    },
    {
      "cell_type": "code",
      "metadata": {
        "id": "D8UL9dSJGSqD"
      },
      "source": [
        "def cantrips(index, num):\r\n",
        "  link = '/api/spells/?level=0'\r\n",
        "  spells = call(url+link)\r\n",
        "  temp = []\r\n",
        "  list_spells = []\r\n",
        "\r\n",
        "  for item in spells['results']:\r\n",
        "    magic = call(url+item['url'])\r\n",
        "    for item1 in magic['classes']:\r\n",
        "      if item1['index'] == index:\r\n",
        "        temp.append(item)\r\n",
        "        print(item['name'])\r\n",
        "\r\n",
        "  for num1 in range(num):\r\n",
        "    selected = int(input('Choose your ' + str(num) + ' cantrips from the list above: '))\r\n",
        "    list_spells.append(temp[selected])\r\n",
        "\r\n",
        "  return list_spells"
      ],
      "execution_count": 170,
      "outputs": []
    },
    {
      "cell_type": "markdown",
      "metadata": {
        "id": "nrexng1c0ksb"
      },
      "source": [
        "##Races"
      ]
    },
    {
      "cell_type": "code",
      "metadata": {
        "id": "xRnqjQ1B81t-"
      },
      "source": [
        "#Function add informations on character sheet automatic\r\n",
        "def add_auto(index):\r\n",
        "    List = jason[index]\r\n",
        "    for item in List:\r\n",
        "      if item['index'][0:5] == 'skill':\r\n",
        "        character['skills'].append({'skill':item, 'bonus':0})\r\n",
        "      \r\n",
        "      elif index == 'racial_traits':\r\n",
        "        character['traits'].append(item)\r\n",
        "\r\n",
        "      elif index != 'starting_proficiencies':\r\n",
        "        character[index].append(item)\r\n",
        "      \r\n",
        "      else:\r\n",
        "        character['proficiencies'].append(item)"
      ],
      "execution_count": 171,
      "outputs": []
    },
    {
      "cell_type": "code",
      "metadata": {
        "id": "QaQwgXJMCf79"
      },
      "source": [
        "#Function for add languages in the character sheet\r\n",
        "def add_select_lang():\r\n",
        "  index = 'language_options'\r\n",
        "  if index in jason:\r\n",
        "    List = jason[index]['from']\r\n",
        "    choose = jason[index]['choose']\r\n",
        "    for item in List:\r\n",
        "      print(item['name'])\r\n",
        "    \r\n",
        "    for num in range(choose):\r\n",
        "      selected = int(input('Choose ' + str(choose) + ' languages in the list above, to select use the index number: '))\r\n",
        "      character['languages'].append(List[selected])"
      ],
      "execution_count": 172,
      "outputs": []
    },
    {
      "cell_type": "code",
      "metadata": {
        "id": "tsDKDrZ-ph0n"
      },
      "source": [
        "#Function for add traits in the character sheet\r\n",
        "def add_select_trai(index):\r\n",
        "  if index in jason:\r\n",
        "    List = jason[index]['from']\r\n",
        "    choose = jason[index]['choose']\r\n",
        "    for item in List:\r\n",
        "      print(item['name'])\r\n",
        "    \r\n",
        "    for num in range(choose):\r\n",
        "      selected = int(input('Choose ' + str(choose) + ' languages in the list above, to select use the index number: '))\r\n",
        "      character['traits'].append(List[selected])"
      ],
      "execution_count": 173,
      "outputs": []
    },
    {
      "cell_type": "markdown",
      "metadata": {
        "id": "TPyiOQDxbrZT"
      },
      "source": [
        "##Classes"
      ]
    },
    {
      "cell_type": "markdown",
      "metadata": {
        "id": "nbvGhTA4Nr_9"
      },
      "source": [
        "###Cleric"
      ]
    },
    {
      "cell_type": "code",
      "metadata": {
        "id": "q-DavRnSbvw-"
      },
      "source": [
        "#Function to build the cleric json features\r\n",
        "def feed_cleric(js):\r\n",
        "  num = 0\r\n",
        "  sub = []\r\n",
        "  cla = []\r\n",
        "  temp = []\r\n",
        "  cleric = json.loads('{\"level\":0,\"ability_score_bonuses\":0,\"prof_bonus\":0,\"features\":[],'+\r\n",
        "                      '\"spellcasting\":{\"cantrips_known\":0,'+\r\n",
        "                      '\"spells_known\":0,'+\r\n",
        "                      '\"spell_slots_level_1\":0,'+\r\n",
        "                      '\"spell_slots_level_2\":0,'+\r\n",
        "                      '\"spell_slots_level_3\":0,'+\r\n",
        "                      '\"spell_slots_level_4\":0,'+\r\n",
        "                      '\"spell_slots_level_5\":0,'+\r\n",
        "                      '\"spell_slots_level_6\":0,'+\r\n",
        "                      '\"spell_slots_level_7\":0,'+\r\n",
        "                      '\"spell_slots_level_8\":0,'+\r\n",
        "                      '\"spell_slots_level_9\":0},'+\r\n",
        "                      '\"spell_list\":{\"cantrips_list\": [],'+\r\n",
        "                      '\"spell_list_level_1\": [],'+\r\n",
        "                      '\"spell_list_level_2\": [],'+\r\n",
        "                      '\"spell_list_level_3\": [],'+\r\n",
        "                      '\"spell_list_level_4\": [],'+\r\n",
        "                      '\"spell_list_level_5\": [],'+\r\n",
        "                      '\"spell_list_level_6\": [],'+\r\n",
        "                      '\"spell_list_level_7\": [],'+\r\n",
        "                      '\"spell_list_level_8\": [],'+\r\n",
        "                      '\"spell_list_level_9\": []},'+\r\n",
        "                      '\"class_specific\":{\"channel_divinity_charges\":0,\"destroy_undead_cr\":0}}')  \r\n",
        "\r\n",
        "  for item in js:\r\n",
        "    if item['url'][5:8] == 'sub':\r\n",
        "      sub.append(item['url'])\r\n",
        "    else:\r\n",
        "      cla.append(item['url'])\r\n",
        "  Class = call(url+cla[num])\r\n",
        "  Subclass = call(url+sub[num])\r\n",
        "\r\n",
        "  cleric['level'] = Class['level']\r\n",
        "  \r\n",
        "  cleric['prof_bonus'] = Class['prof_bonus']\r\n",
        "\r\n",
        "  for item in Class['features']:\r\n",
        "    temp.append(item)\r\n",
        "  cleric['features'].extend(temp)\r\n",
        "\r\n",
        "  for item in Class['spellcasting'].items():\r\n",
        "      if item[1] > cleric['spellcasting'][item[0]]:\r\n",
        "        cleric['spellcasting'][item[0]] = item[1]\r\n",
        "\r\n",
        "  cleric['class_specific']['channel_divinity_charges'] = Class['class_specific']['channel_divinity_charges']\r\n",
        "  cleric['class_specific']['destroy_undead_cr'] = Class['class_specific']['destroy_undead_cr']\r\n",
        "\r\n",
        "  if Subclass['level'] == cleric['level']:\r\n",
        "    temp = []\r\n",
        "    for item in Subclass['features']:\r\n",
        "      temp.append(item)\r\n",
        "    cleric['features'].extend(temp)\r\n",
        "\r\n",
        "  cleric['spell_list']['cantrips_list'].extend(cantrips('cleric', cleric['spellcasting']['cantrips_known']))\r\n",
        "  cleric['spell_list']['spell_list_level_1'].extend(spell_cleric('cleric', '1'))\r\n",
        "  cleric['spellcasting']['spells_known'] = Class['level'] + character['ability'][4]['bonus']\r\n",
        "\r\n",
        "  return cleric"
      ],
      "execution_count": 174,
      "outputs": []
    },
    {
      "cell_type": "code",
      "metadata": {
        "id": "Ndofbz56uww8"
      },
      "source": [
        "def spell_cleric(index, num):\r\n",
        "  link = '/api/spells/?level=' + num\r\n",
        "  spells = call(url+link)\r\n",
        "  temp = []\r\n",
        "  list_spells = []\r\n",
        "\r\n",
        "  for item in spells['results']:\r\n",
        "    magic = call(url+item['url'])\r\n",
        "    for item1 in magic['classes']:\r\n",
        "      if item1['index'] == index:\r\n",
        "        list_spells.append(item)\r\n",
        "\r\n",
        "  return list_spells"
      ],
      "execution_count": 175,
      "outputs": []
    },
    {
      "cell_type": "code",
      "metadata": {
        "id": "Ou6BTMHGNv48"
      },
      "source": [
        "def equipment_cleric(equip):\r\n",
        "  equipment = []\r\n",
        "  \r\n",
        "  for item in equip:\r\n",
        "    print('')\r\n",
        "    step = 'continue'\r\n",
        "    for item1 in item['from']:\r\n",
        "      if 'equipment' in item1:\r\n",
        "        print(item1['equipment']['name'])\r\n",
        "      \r\n",
        "      elif 'equipment_option' in item1:\r\n",
        "        print(item1['equipment_option']['from']['equipment_category']['name'])\r\n",
        "      \r\n",
        "      elif 'equipment_category' in item1:\r\n",
        "        option = item1['equipment_category']['url']\r\n",
        "        choose = item['choose']\r\n",
        "        equipment.extend(category(option, choose))\r\n",
        "        step = 'break'\r\n",
        "\r\n",
        "      else:\r\n",
        "        string = ''\r\n",
        "        for num in item1:\r\n",
        "          if string == '':\r\n",
        "            string = item1[num]['equipment']['name']\r\n",
        "          else:\r\n",
        "            string = string + '; ' + item1[num]['equipment']['name']\r\n",
        "        print(string)\r\n",
        "\r\n",
        "    if step == 'continue':\r\n",
        "      selected = int(input('Choose 1 equipment from the list above: '))\r\n",
        "    \r\n",
        "      choosed = item['from'][selected]\r\n",
        "      if 'equipment' in choosed:\r\n",
        "        equipment.append(choosed)\r\n",
        "        \r\n",
        "      elif 'equipment_option' in choosed:\r\n",
        "        option = choosed['equipment_option']['from']['equipment_category']['url']\r\n",
        "        choose = choosed['equipment_option']['choose']\r\n",
        "        equipment.extend(category(option, choose))\r\n",
        "\r\n",
        "      else:\r\n",
        "        for num in choosed:\r\n",
        "          equipment.append(choosed[num])\r\n",
        "\r\n",
        "  return equipment"
      ],
      "execution_count": 176,
      "outputs": []
    },
    {
      "cell_type": "code",
      "metadata": {
        "id": "g4JoCFipSR3F"
      },
      "source": [
        "def sheet_cleric(character):\r\n",
        "  for item in character.items():\r\n",
        "    if isinstance(item[1],dict):\r\n",
        "      if item[1] != {}:\r\n",
        "        print(item[0] + ': ' + str(item[1]['name']))\r\n",
        "      else:\r\n",
        "        print(item[0] + ': ' + str(item[1]))\r\n",
        "    elif isinstance(item[1],list):\r\n",
        "      if item[1] == []:\r\n",
        "        print(item[0] + ': ' + str(item[1]))\r\n",
        "      elif isinstance(item[1][0],int):\r\n",
        "        print(item[0] + ': ' + str(item[1][0]))\r\n",
        "      elif item[1] != []:\r\n",
        "        print(item[0] + ':')\r\n",
        "        for temp in item[1]:\r\n",
        "          if 'ability_score' in temp:\r\n",
        "            print('   '+ temp['ability_score']['name'] + ': ' + str(temp['value']) + ' (' + str(temp['bonus']) + ')')\r\n",
        "          \r\n",
        "          elif 'index' in temp:\r\n",
        "            print('   ' + temp['name'])\r\n",
        "          \r\n",
        "          elif 'skill' in temp:\r\n",
        "            print('   ' + temp['skill']['name'] + ': ' + str(temp['bonus']))\r\n",
        "          \r\n",
        "          elif 'level' in temp:\r\n",
        "            for key in temp.items():\r\n",
        "              if 'features' in key[0]:\r\n",
        "                print('   ' + key[0] + ': ')\r\n",
        "                for features in key[1]:\r\n",
        "                  print('       ' + features['name'])\r\n",
        "              elif 'spellcasting' in key[0]:\r\n",
        "                print('   ' + key[0] + ': ')\r\n",
        "                for spell in key[1].items():\r\n",
        "                  print('       ' + spell[0] + ': ' + str(spell[1]))\r\n",
        "              elif 'spell_list' in key[0]:\r\n",
        "                print('   ' + key[0] + ': ')\r\n",
        "                for spell in key[1].items():\r\n",
        "                  print('       ' + spell[0] + ': ')\r\n",
        "                  for spell_name in spell[1]:\r\n",
        "                    print('                            ' + spell_name['name'])\r\n",
        "              elif 'class_specific' in key[0]:\r\n",
        "                print('   ' + key[0] + ': ')\r\n",
        "                for n in key[1].items():\r\n",
        "                  print('                 '  + n[0] + ': ' + str(n[1]))\r\n",
        "              else:\r\n",
        "                print('   ' + key[0] + ': ' + str(key[1]))\r\n",
        "              print('')\r\n",
        "          elif 'saving' in temp:\r\n",
        "            print('   ' + temp['saving']['name'] + ': ' + str(temp['bonus']))\r\n",
        "          else:\r\n",
        "            print('   ' + temp['equipment']['name'] + ' quantity: ' + str(temp['quantity']))\r\n",
        "    else:\r\n",
        "      print(str(item[0]) + ': ' + str(item[1]))\r\n",
        "    print('')"
      ],
      "execution_count": 212,
      "outputs": []
    },
    {
      "cell_type": "markdown",
      "metadata": {
        "id": "1-7tt4l4N0bP"
      },
      "source": [
        "###Fighter"
      ]
    },
    {
      "cell_type": "code",
      "metadata": {
        "id": "TybrFv6JhbvW"
      },
      "source": [
        "#Function to build the fighter json features\r\n",
        "def feed_fighter(js):\r\n",
        "  num = 0\r\n",
        "  sub = []\r\n",
        "  cla = []\r\n",
        "  temp = []\r\n",
        "  style = []  \r\n",
        "  fighter = json.loads('{\"level\":0,\"ability_score_bonuses\":0,\"prof_bonus\":0,\"features\":[],'+\r\n",
        "                       '\"class_specific\":{\"action_surges\":0,\"indomitable_uses\":0,\"extra_attacks\":0}}')  \r\n",
        "\r\n",
        "  for item in js:\r\n",
        "    if item['url'][5:8] == 'sub':\r\n",
        "      sub.append(item['url'])\r\n",
        "    else:\r\n",
        "      cla.append(item['url'])\r\n",
        "  Class = call(url+cla[num])\r\n",
        "  Subclass = call(url+sub[num])\r\n",
        "\r\n",
        "  select = Class['feature_choices'][0]['url']\r\n",
        "  feature = call(url + select)\r\n",
        "\r\n",
        "  fighter['level'] = Class['level']\r\n",
        "\r\n",
        "  fighter['prof_bonus'] = Class['prof_bonus']\r\n",
        "\r\n",
        "  for item in Class['features']:\r\n",
        "    temp.append(item)\r\n",
        "  fighter['features'].extend(temp)\r\n",
        "\r\n",
        "  for item in feature['choice']['from']:\r\n",
        "    style.append(item)\r\n",
        "    print(item['name'])\r\n",
        "  choosed = int(input('Choose 1 style from the list above: '))\r\n",
        "  fighter['features'].append(style[choosed])\r\n",
        "\r\n",
        "  fighter['class_specific']['action_surges'] = Class['class_specific']['action_surges']\r\n",
        "  fighter['class_specific']['indomitable_uses'] = Class['class_specific']['indomitable_uses']\r\n",
        "  fighter['class_specific']['extra_attacks'] = Class['class_specific']['extra_attacks']\r\n",
        "\r\n",
        "  return fighter"
      ],
      "execution_count": 178,
      "outputs": []
    },
    {
      "cell_type": "code",
      "metadata": {
        "id": "VdZP-u1AYVYi"
      },
      "source": [
        "def equipment_fighter(equip):\r\n",
        "  equipment = []\r\n",
        "  for item in equip:\r\n",
        "    print('')\r\n",
        "    for item1 in item['from']:\r\n",
        "      if 'equipment' in item1:\r\n",
        "          print(item1['equipment']['name'])\r\n",
        "        \r\n",
        "      elif 'equipment_option' in item1:\r\n",
        "        print(item1['equipment_option']['from']['equipment_category']['name'])\r\n",
        "        \r\n",
        "      elif 'equipment_category' in item1:\r\n",
        "        print(item1['equipment_category']['name'])\r\n",
        "        \r\n",
        "      else:\r\n",
        "        string = ''\r\n",
        "        for num in item1:\r\n",
        "          if 'equipment' in item1[num]:\r\n",
        "            if string == '':\r\n",
        "              string = item1[num]['equipment']['name']\r\n",
        "            else:\r\n",
        "              string = string + '; ' + item1[num]['equipment']['name']\r\n",
        "          else:\r\n",
        "            if string == '':\r\n",
        "              string = item1[num]['equipment']['name']\r\n",
        "            else:\r\n",
        "              string = string + '; ' + item1[num]['equipment_option']['from']['equipment_category']['name']\r\n",
        "        print(string)\r\n",
        "\r\n",
        "    selected = int(input('Choose 1 equipment from the list above: '))\r\n",
        "    choosed = item['from'][selected]\r\n",
        "    if 'equipment' in choosed:\r\n",
        "      equipment.append(choosed)\r\n",
        "        \r\n",
        "    elif 'equipment_option' in choosed:\r\n",
        "      option = choosed['equipment_option']['from']['equipment_category']['url']\r\n",
        "      choose = choosed['equipment_option']['choose']\r\n",
        "      equipment.extend(category(option, choose))\r\n",
        "\r\n",
        "    elif 'equipment_category' in choosed:\r\n",
        "      option = choosed['equipment_category']['url']\r\n",
        "      choose = item['choose']\r\n",
        "      equipment.extend(category(option, choose))\r\n",
        "\r\n",
        "    else:\r\n",
        "      for num in choosed:\r\n",
        "        if 'equipment_option' in choosed[num]:\r\n",
        "          option = choosed[num]['equipment_option']['from']['equipment_category']['url']\r\n",
        "          choose = choosed[num]['equipment_option']['choose']\r\n",
        "          equipment.extend(category(option, choose))\r\n",
        "\r\n",
        "        else:\r\n",
        "          equipment.append(choosed[num])\r\n",
        "\r\n",
        "  return equipment"
      ],
      "execution_count": 179,
      "outputs": []
    },
    {
      "cell_type": "code",
      "metadata": {
        "id": "w2ZR2OsRSHuS"
      },
      "source": [
        "def sheet_fighter(character):\r\n",
        "  for item in character.items():\r\n",
        "    if isinstance(item[1],dict):\r\n",
        "      if item[1] != {}:\r\n",
        "        print(item[0] + ': ' + str(item[1]['name']))\r\n",
        "      else:\r\n",
        "        print(item[0] + ': ' + str(item[1]))\r\n",
        "    elif isinstance(item[1],list):\r\n",
        "      if item[1] == []:\r\n",
        "        print(item[0] + ': ' + str(item[1]))\r\n",
        "      elif isinstance(item[1][0],int):\r\n",
        "        print(item[0] + ': ' + str(item[1][0]))\r\n",
        "      elif item[1] != []:\r\n",
        "        print(item[0] + ':')\r\n",
        "        for temp in item[1]:\r\n",
        "          if 'ability_score' in temp:\r\n",
        "            print('   ' + temp['ability_score']['name'] + ': ' + str(temp['value']) + ' (' + str(temp['bonus']) + ')')\r\n",
        "          elif 'index' in temp:\r\n",
        "            print('   ' + str(temp['name']))\r\n",
        "          elif 'skill' in temp:\r\n",
        "            print('   ' + str(temp['skill']['name'][7:] + ': ' + str(temp['bonus'])))\r\n",
        "          elif 'level' in temp:\r\n",
        "            for key in temp:\r\n",
        "              if key == 'features':\r\n",
        "                print('   ' + key + ': ')\r\n",
        "                for feat in temp[key]:\r\n",
        "                  print('       ' + str(feat['name']))\r\n",
        "              elif key == 'class_specific':\r\n",
        "                print('   ' + key + ': ')\r\n",
        "                for value in temp[key].items():\r\n",
        "                  print('       ' + value[0] + ': ' + str(value[1]))\r\n",
        "              else:\r\n",
        "                print('   ' + key + ': ' + str(temp[key]))\r\n",
        "          elif 'saving' in temp:\r\n",
        "            print('   ' + str(temp['saving']['name'] + ': ' + str(temp['bonus'])))\r\n",
        "          elif 'equipment' in temp:\r\n",
        "            print('   ' + str(temp['equipment']['name'] + ' quantity: ' + str(temp['quantity'])))\r\n",
        "          else:\r\n",
        "            print(item[0] + ': ' + str(item[1]))            \r\n",
        "    else:\r\n",
        "      print(item[0] + ': ' + str(item[1]))\r\n",
        "    print('')"
      ],
      "execution_count": 180,
      "outputs": []
    },
    {
      "cell_type": "markdown",
      "metadata": {
        "id": "F30Pr-mRN4EO"
      },
      "source": [
        "###Rogue"
      ]
    },
    {
      "cell_type": "code",
      "metadata": {
        "id": "ILXF2owpjb3l"
      },
      "source": [
        "#Function to build the rogue json features\r\n",
        "def feed_rogue(js):\r\n",
        "  num = 0  \r\n",
        "  sub = []\r\n",
        "  cla = []\r\n",
        "  temp = []\r\n",
        "  expertise = []\r\n",
        "  rogue = json.loads('{\"level\":0,\"ability_score_bonuses\":0,\"prof_bonus\":0,\"features\":[],\"class_specific\":{\"sneak_attack\":{\"dice_count\":0,\"dice_value\":0}}}')\r\n",
        "\r\n",
        "  for item in js:\r\n",
        "    if item['url'][5:8] == 'sub':\r\n",
        "      sub.append(item['url'])\r\n",
        "    else:\r\n",
        "      cla.append(item['url'])\r\n",
        "  Class = call(url+cla[num])\r\n",
        "  Subclass = call(url+sub[num])\r\n",
        "\r\n",
        "  select = Class['feature_choices'][0]['url']\r\n",
        "  feature = call(url + select)\r\n",
        " \r\n",
        "  rogue['level'] = Class['level']\r\n",
        "\r\n",
        "  rogue['prof_bonus'] = Class['prof_bonus']\r\n",
        "\r\n",
        "  for item in Class['features']:\r\n",
        "    temp.append(item)\r\n",
        "  rogue['features'].extend(temp)\r\n",
        "\r\n",
        "\r\n",
        "  for item in character['skills']:\r\n",
        "    for item1 in feature['choice']['from']:\r\n",
        "      if item['skill']['name'][7:] == item1['name'][11:]:\r\n",
        "        expertise.append(item1)\r\n",
        "\r\n",
        "  for item in expertise:\r\n",
        "    print(item['name'])\r\n",
        "\r\n",
        "  for num in range(feature['choice']['choose']):\r\n",
        "    choosed = int(input('Choose 2 from the list above: '))\r\n",
        "    rogue['features'].append(expertise[choosed])\r\n",
        "\r\n",
        "  rogue['class_specific']['sneak_attack']['dice_count'] = Class['class_specific']['sneak_attack']['dice_count']\r\n",
        "  rogue['class_specific']['sneak_attack']['dice_value'] = Class['class_specific']['sneak_attack']['dice_value']\r\n",
        "\r\n",
        "  return rogue"
      ],
      "execution_count": 181,
      "outputs": []
    },
    {
      "cell_type": "code",
      "metadata": {
        "id": "7yMwSr8xYZfK"
      },
      "source": [
        "def equipment_rogue(equip):\r\n",
        "  equipment = []\r\n",
        "\r\n",
        "  for item in equip:\r\n",
        "      print('')\r\n",
        "      for item1 in item['from']:\r\n",
        "        if 'equipment' in item1:\r\n",
        "          print(item1['equipment']['name'])\r\n",
        "        \r\n",
        "        else:\r\n",
        "          string = ''\r\n",
        "          for num in item1:\r\n",
        "            if string == '':\r\n",
        "              string = item1[num]['equipment']['name']\r\n",
        "            else:\r\n",
        "              string = string + '; ' + item1[num]['equipment']['name']\r\n",
        "          print(string)\r\n",
        "\r\n",
        "      selected = int(input('Choose 1 equipment from the list above: '))\r\n",
        "      choosed = item['from'][selected]\r\n",
        "      if 'equipment' in choosed:\r\n",
        "        equipment.append(choosed)\r\n",
        "\r\n",
        "      else:\r\n",
        "        for num in choosed:\r\n",
        "          equipment.append(choosed[num])\r\n",
        "\r\n",
        "  return equipment"
      ],
      "execution_count": 182,
      "outputs": []
    },
    {
      "cell_type": "code",
      "metadata": {
        "id": "eJl_dkkljmId"
      },
      "source": [
        "def sheet_rogue(character):\r\n",
        "  for item in character.items():\r\n",
        "    if isinstance(item[1],dict):\r\n",
        "      if item[1] != {}:\r\n",
        "        print(item[0] + ': ' + str(item[1]['name']))\r\n",
        "      else:\r\n",
        "        print(item[0] + ': ' + str(item[1]))\r\n",
        "    elif isinstance(item[1],list):\r\n",
        "      if item[1] == []:\r\n",
        "        print(item[0] + ': ' + str(item[1]))\r\n",
        "      elif isinstance(item[1][0],int):\r\n",
        "        print(item[0] + ': ' + str(item[1][0]))\r\n",
        "      elif item[1] != []:\r\n",
        "        print(item[0] + ':')\r\n",
        "        for temp in item[1]:\r\n",
        "          if 'ability_score' in temp:\r\n",
        "            print('   ' + temp['ability_score']['name'] + ': ' + str(temp['value']) + ' (' + str(temp['bonus']) + ')')\r\n",
        "          elif 'index' in temp:\r\n",
        "            print('   ' + str(temp['name']))\r\n",
        "          elif 'skill' in temp:\r\n",
        "            print('   ' + str(temp['skill']['name'][7:] + ': ' + str(temp['bonus'])))\r\n",
        "          elif 'level' in temp:\r\n",
        "            for key in temp:\r\n",
        "              if key == 'features':\r\n",
        "                print('   ' + key + ': ')\r\n",
        "                for feat in temp[key]:\r\n",
        "                  print('       ' + str(feat['name']))\r\n",
        "              elif key == 'class_specific':\r\n",
        "                print('   ' + key + ': ')\r\n",
        "                for value in temp[key].items():\r\n",
        "                  print('       ' + value[0] + ': ' + str(value[1]))\r\n",
        "              else:\r\n",
        "                print('   ' + key + ': ' + str(temp[key]))\r\n",
        "          elif 'saving' in temp:\r\n",
        "            print('   ' + str(temp['saving']['name'] + ': ' + str(temp['bonus'])))\r\n",
        "          elif 'equipment' in temp:\r\n",
        "            print('   ' + str(temp['equipment']['name'] + ' quantity: ' + str(temp['quantity'])))\r\n",
        "          else:\r\n",
        "            print(item[0] + ': ' + str(item[1]))            \r\n",
        "    else:\r\n",
        "      print(item[0] + ': ' + str(item[1]))\r\n",
        "    print('')"
      ],
      "execution_count": 183,
      "outputs": []
    },
    {
      "cell_type": "markdown",
      "metadata": {
        "id": "IhUWPrseN6kY"
      },
      "source": [
        "###Wizard"
      ]
    },
    {
      "cell_type": "code",
      "metadata": {
        "id": "rUgzDroPmPdG"
      },
      "source": [
        "#Function to build the wizard json features\r\n",
        "def feed_wizard(js):\r\n",
        "  num = 0  \r\n",
        "  sub = []\r\n",
        "  cla = []\r\n",
        "  temp = []\r\n",
        "  wizard = json.loads('{\"level\":0,\"ability_score_bonuses\":0,\"prof_bonus\":0,\"features\":[],'+\r\n",
        "                      '\"spellcasting\":{\"cantrips_known\":0,'+\r\n",
        "                      '\"spells_known\":0,'+\r\n",
        "                      '\"spell_slots_level_1\":0,'+\r\n",
        "                      '\"spell_slots_level_2\":0,'+\r\n",
        "                      '\"spell_slots_level_3\":0,'+\r\n",
        "                      '\"spell_slots_level_4\":0,'+\r\n",
        "                      '\"spell_slots_level_5\":0,'+\r\n",
        "                      '\"spell_slots_level_6\":0,'+\r\n",
        "                      '\"spell_slots_level_7\":0,'+\r\n",
        "                      '\"spell_slots_level_8\":0,'+\r\n",
        "                      '\"spell_slots_level_9\":0},'+\r\n",
        "                      '\"spell_list\":{\"cantrips_list\": [],'+\r\n",
        "                      '\"spell_list_level_1\": [],'+\r\n",
        "                      '\"spell_list_level_2\": [],'+\r\n",
        "                      '\"spell_list_level_3\": [],'+\r\n",
        "                      '\"spell_list_level_4\": [],'+\r\n",
        "                      '\"spell_list_level_5\": [],'+\r\n",
        "                      '\"spell_list_level_6\": [],'+\r\n",
        "                      '\"spell_list_level_7\": [],'+\r\n",
        "                      '\"spell_list_level_8\": [],'+\r\n",
        "                      '\"spell_list_level_9\": []},'+\r\n",
        "                      '\"class_specific\":{\"arcane_recovery_levels\":0}}')\r\n",
        "\r\n",
        "  for item in js:\r\n",
        "    if item['url'][5:8] == 'sub':\r\n",
        "      sub.append(item['url'])\r\n",
        "    else:\r\n",
        "      cla.append(item['url'])\r\n",
        "  Class = call(url+cla[num])\r\n",
        "  Subclass = call(url+sub[num])\r\n",
        "\r\n",
        "  wizard['level'] = Class['level']\r\n",
        "  \r\n",
        "  wizard['prof_bonus'] = Class['prof_bonus']\r\n",
        "\r\n",
        "  for item in Class['features']:\r\n",
        "    temp.append(item)\r\n",
        "  wizard['features'].extend(temp)\r\n",
        "\r\n",
        "  for item in Class['spellcasting'].items():\r\n",
        "      if item[1] > wizard['spellcasting'][item[0]]:\r\n",
        "        wizard['spellcasting'][item[0]] = item[1]\r\n",
        "  \r\n",
        "  wizard['spell_list']['cantrips_list'].extend(cantrips('wizard', wizard['spellcasting']['cantrips_known']))\r\n",
        "  wizard['spell_list']['spell_list_level_1'].extend(spell_wizard('wizard', 6))\r\n",
        "  wizard['spellcasting']['spells_known'] = Class['level'] + character['ability'][3]['bonus']\r\n",
        "  \r\n",
        "  wizard['class_specific']['arcane_recovery_levels'] = Class['class_specific']['arcane_recovery_levels']\r\n",
        "\r\n",
        "  return wizard"
      ],
      "execution_count": 184,
      "outputs": []
    },
    {
      "cell_type": "code",
      "metadata": {
        "id": "13iJtK9HMPy7"
      },
      "source": [
        "def spell_wizard(index, num):\r\n",
        "  link = '/api/spells/?level=1'\r\n",
        "  spells = call(url+link)\r\n",
        "  temp = []\r\n",
        "  list_spells = []\r\n",
        "\r\n",
        "  for item in spells['results']:\r\n",
        "    magic = call(url+item['url'])\r\n",
        "    for item1 in magic['classes']:\r\n",
        "      if item1['index'] == index:\r\n",
        "        temp.append(item)\r\n",
        "        print(item['name'])\r\n",
        "\r\n",
        "  for num1 in range(num):\r\n",
        "    selected = int(input('Choose your ' + str(num) + ' cantrips from the list above: '))\r\n",
        "    list_spells.append(temp[selected])\r\n",
        "\r\n",
        "  return list_spells"
      ],
      "execution_count": 185,
      "outputs": []
    },
    {
      "cell_type": "code",
      "metadata": {
        "id": "e-DNamoMZout"
      },
      "source": [
        "def equipment_wizard(equip):\r\n",
        "  equipment = []\r\n",
        "\r\n",
        "  for item in equip:\r\n",
        "      print('')\r\n",
        "      for item1 in item['from']:\r\n",
        "        if 'equipment' in item1:\r\n",
        "          print(item1['equipment']['name'])\r\n",
        "\r\n",
        "        else:\r\n",
        "          print(item1['equipment_option']['from']['equipment_category']['name'])\r\n",
        "\r\n",
        "      selected = int(input('Choose 1 equipment from the list above: '))\r\n",
        "      choosed = item['from'][selected]\r\n",
        "      if 'equipment' in choosed:\r\n",
        "        equipment.append(choosed)\r\n",
        "        \r\n",
        "      else:\r\n",
        "        option = choosed['equipment_option']['from']['equipment_category']['url']\r\n",
        "        choose = choosed['equipment_option']['choose']\r\n",
        "        equipment.extend(category(option, choose))\r\n",
        "\r\n",
        "  return equipment"
      ],
      "execution_count": 186,
      "outputs": []
    },
    {
      "cell_type": "code",
      "metadata": {
        "id": "iTbeppUAlFHS"
      },
      "source": [
        "def sheet_wizard(character):\r\n",
        "  for item in character.items():\r\n",
        "    if isinstance(item[1],dict):\r\n",
        "      if item[1] != {}:\r\n",
        "        print(item[0] + ': ' + str(item[1]['name']))\r\n",
        "      else:\r\n",
        "        print(item[0] + ': ' + str(item[1]))\r\n",
        "    elif isinstance(item[1],list):\r\n",
        "      if item[1] == []:\r\n",
        "        print(item[0] + ': ' + str(item[1]))\r\n",
        "      elif isinstance(item[1][0],int):\r\n",
        "        print(item[0] + ': ' + str(item[1][0]))\r\n",
        "      elif item[1] != []:\r\n",
        "        print(item[0] + ':')\r\n",
        "        for temp in item[1]:\r\n",
        "          if 'ability_score' in temp:\r\n",
        "            print('   '+ temp['ability_score']['name'] + ': ' + str(temp['value']) + ' (' + str(temp['bonus']) + ')')\r\n",
        "          \r\n",
        "          elif 'index' in temp:\r\n",
        "            print('   ' + temp['name'])\r\n",
        "          \r\n",
        "          elif 'skill' in temp:\r\n",
        "            print('   ' + temp['skill']['name'] + ': ' + str(temp['bonus']))\r\n",
        "          \r\n",
        "          elif 'level' in temp:\r\n",
        "            for key in temp.items():\r\n",
        "              if 'features' in key[0]:\r\n",
        "                print('   ' + key[0] + ': ')\r\n",
        "                for features in key[1]:\r\n",
        "                  print('       ' + features['name'])\r\n",
        "              elif 'spellcasting' in key[0]:\r\n",
        "                print('   ' + key[0] + ': ')\r\n",
        "                for spell in key[1].items():\r\n",
        "                  print('       ' + spell[0] + ': ' + str(spell[1]))\r\n",
        "              elif 'spell_list' in key[0]:\r\n",
        "                print('   ' + key[0] + ': ')\r\n",
        "                for spell in key[1].items():\r\n",
        "                  print('       ' + spell[0] + ': ')\r\n",
        "                  for spell_name in spell[1]:\r\n",
        "                    print('                            ' + spell_name['name'])\r\n",
        "              elif 'class_specific' in key[0]:\r\n",
        "                print('   ' + key[0] + ': ')\r\n",
        "                for n in key[1].items():\r\n",
        "                  print('                 '  + n[0] + ': ' + str(n[1]))\r\n",
        "              else:\r\n",
        "                print('   ' + key[0] + ': ' + str(key[1]))\r\n",
        "              print('')\r\n",
        "          elif 'saving' in temp:\r\n",
        "            print('   ' + temp['saving']['name'] + ': ' + str(temp['bonus']))\r\n",
        "          else:\r\n",
        "            print('   ' + temp['equipment']['name'] + ' quantity: ' + str(temp['quantity']))\r\n",
        "    else:\r\n",
        "      print(str(item[0]) + ': ' + str(item[1]))\r\n",
        "    print('')"
      ],
      "execution_count": 214,
      "outputs": []
    },
    {
      "cell_type": "markdown",
      "metadata": {
        "id": "PKGDi95tJ75v"
      },
      "source": [
        "#Starting Create Sheet"
      ]
    },
    {
      "cell_type": "code",
      "metadata": {
        "id": "9r09zC00ekoH",
        "colab": {
          "base_uri": "https://localhost:8080/"
        },
        "outputId": "2a6c1bd4-1c77-4aea-e821-c61f42336ffc"
      },
      "source": [
        "#Define the Character name\n",
        "character['character_name'] = input(\"Insert your character name: \")"
      ],
      "execution_count": 189,
      "outputs": [
        {
          "output_type": "stream",
          "text": [
            "Insert your character name: Drezon\n"
          ],
          "name": "stdout"
        }
      ]
    },
    {
      "cell_type": "markdown",
      "metadata": {
        "id": "IIgtIitBh3ph"
      },
      "source": [
        "##CHOOSE THE CHARACTER RACE AND ITS BONUS"
      ]
    },
    {
      "cell_type": "markdown",
      "metadata": {
        "id": "tivpHDmzpgMW"
      },
      "source": [
        "###Select Race and Bonus"
      ]
    },
    {
      "cell_type": "code",
      "metadata": {
        "id": "Fms5gCCwekoL",
        "colab": {
          "base_uri": "https://localhost:8080/"
        },
        "outputId": "c3c86a03-d251-4825-b2f3-737081a22dbb"
      },
      "source": [
        "#Select the character race\n",
        "List = [{\"index\":\"dwarf\",\"name\":\"Dwarf\",\"url\":\"/api/races/dwarf\"},{\"index\":\"elf\",\"name\":\"Elf\",\"url\":\"/api/races/elf\"},{\"index\":\"halfling\",\"name\":\"Halfling\",\"url\":\"/api/races/halfling\"},{\"index\":\"human\",\"name\":\"Human\",\"url\":\"/api/races/human\"}]\n",
        "index = 'race'\n",
        "\n",
        "jason = selection(index, List)"
      ],
      "execution_count": 190,
      "outputs": [
        {
          "output_type": "stream",
          "text": [
            "Dwarf\n",
            "Elf\n",
            "Halfling\n",
            "Human\n",
            "Choose your character race from the list above, select using the index number: 1\n"
          ],
          "name": "stdout"
        }
      ]
    },
    {
      "cell_type": "code",
      "metadata": {
        "id": "qdZ0dgITB9i3"
      },
      "source": [
        "#Adding automatic informations on character sheet\r\n",
        "for item in jason['ability_bonuses']:\r\n",
        "  for num in range(len(character['ability'])):\r\n",
        "    if item['ability_score']['index'] == character['ability'][num]['ability_score']['index']:\r\n",
        "      character['ability'][num]['value'] = item['bonus']\r\n",
        "\r\n",
        "character['speed'] = jason['speed']\r\n",
        "\r\n",
        "character['size'] = jason['size']\r\n",
        "\r\n",
        "index = 'starting_proficiencies'\r\n",
        "add_auto(index)\r\n",
        "\r\n",
        "index = 'languages'\r\n",
        "add_auto(index)\r\n",
        "\r\n",
        "index = 'traits'\r\n",
        "add_auto(index)\r\n",
        "\r\n",
        "if jason['subraces'] != []:\r\n",
        "    character['subrace'] = jason['subraces'][0]\r\n",
        "\r\n",
        "add_select_lang()\r\n",
        "\r\n",
        "index = 'starting_proficiency_options'\r\n",
        "id = ''\r\n",
        "add_select_prof(index,id)\r\n",
        "\r\n",
        "index = 'trait_options'\r\n",
        "add_select_trai(index)"
      ],
      "execution_count": 191,
      "outputs": []
    },
    {
      "cell_type": "markdown",
      "metadata": {
        "id": "O6mUPSdhprmY"
      },
      "source": [
        "###Subrace Bonus"
      ]
    },
    {
      "cell_type": "code",
      "metadata": {
        "id": "gNSyNu8_ekoQ"
      },
      "source": [
        "#Select the character sub-race\n",
        "if character['subrace'] != {}:\n",
        "  jason = call(url + character['subrace']['url'])"
      ],
      "execution_count": 192,
      "outputs": []
    },
    {
      "cell_type": "code",
      "metadata": {
        "id": "HoNvEo-gekoR"
      },
      "source": [
        "#Adding racial ability bonus to character sheet\n",
        "if character['subrace'] != {}:\n",
        "  for item in jason['ability_bonuses']:\n",
        "    for num in range(len(character['ability'])):\n",
        "      if item['ability_score']['index'] == character['ability'][num]['ability_score']['index']:\n",
        "        character['ability'][num]['value'] = item['bonus']\n",
        "\n",
        "  index = 'starting_proficiencies'\n",
        "  add_auto(index)\n",
        "\n",
        "  index = 'languages'\n",
        "  add_auto(index)\n",
        "\n",
        "  index = 'racial_traits'\n",
        "  add_auto(index)\n",
        "\n",
        "  add_select_lang()\n",
        "\n",
        "  index = 'starting_proficiency_options'\n",
        "  id =''\n",
        "  add_select_prof(index,id)\n",
        "\n",
        "  index = 'racial_trait_options'\n",
        "  add_select_trai(index)"
      ],
      "execution_count": null,
      "outputs": []
    },
    {
      "cell_type": "markdown",
      "metadata": {
        "id": "azNrqydJgWOC"
      },
      "source": [
        "##CHOOSE THE CHARACTER CLASS"
      ]
    },
    {
      "cell_type": "code",
      "metadata": {
        "id": "79Nmi-iwp9D2"
      },
      "source": [
        "#Select the character class\n",
        "List = [{\"index\":\"cleric\",\"name\":\"Cleric\",\"url\":\"/api/classes/cleric\"},{\"index\":\"fighter\",\"name\":\"Fighter\",\"url\":\"/api/classes/fighter\"},{\"index\":\"rogue\",\"name\":\"Rogue\",\"url\":\"/api/classes/rogue\"},{\"index\":\"wizard\",\"name\":\"Wizard\",\"url\":\"/api/classes/wizard\"}]\n",
        "index = 'classes'\n",
        "\n",
        "jason = selection(index, List)"
      ],
      "execution_count": null,
      "outputs": []
    },
    {
      "cell_type": "code",
      "metadata": {
        "id": "GDiwT2Lemt26"
      },
      "source": [
        "#Select the character skills\r\n",
        "index = 'proficiency_choices'\r\n",
        "for id in range(len(jason['proficiency_choices'])):\r\n",
        "  add_select_prof(index, id)"
      ],
      "execution_count": null,
      "outputs": []
    },
    {
      "cell_type": "code",
      "metadata": {
        "id": "jEQi3_d3rEec"
      },
      "source": [
        "#Define the proficiencies character\r\n",
        "index = 'proficiencies'\r\n",
        "id = ''\r\n",
        "add_auto(index)"
      ],
      "execution_count": 196,
      "outputs": []
    },
    {
      "cell_type": "code",
      "metadata": {
        "id": "Wa5MSO0pekoT"
      },
      "source": [
        "#Define the chacacter ability scores\n",
        "Option = input('You prefer randomize your ability or choose the standard abilities (15, 14, 13, 12, 10, 8).'+\n",
        "               '\\nSelect between randomize or standard\\n')\n",
        "ability = []\n",
        "\n",
        "if Option == 'randomize':\n",
        "  for num in range(6):\n",
        "    dices = []\n",
        "    for num1 in range(4):\n",
        "      dices.append(random.randint(1, 6))\n",
        "    value = sum(dices) - min(dices)\n",
        "    ability.append(value)\n",
        "\n",
        "else:\n",
        "    ability = [15, 14, 13, 12, 10, 8]\n",
        "\n",
        "for num in ability:\n",
        "  print(num)\n",
        "\n",
        "List = character['ability']\n",
        "for num in range(len(List)):\n",
        "  character['ability'][num]['value'] += int(input(\"Select the value for \" + List[num]['ability_score']['name'] + \": \"))\n",
        "  character['ability'][num]['bonus'] = math.floor((character['ability'][num]['value'] - 10) / 2)"
      ],
      "execution_count": null,
      "outputs": []
    },
    {
      "cell_type": "code",
      "metadata": {
        "id": "H5Uq4pl3zQv_"
      },
      "source": [
        "#Select the caracter features\r\n",
        "js = call(url + jason['class_levels'])\r\n",
        "Class = character['classes']['index']\r\n",
        "\r\n",
        "if Class == 'cleric':\r\n",
        "  character['stats'].append(feed_cleric(js))\r\n",
        "\r\n",
        "elif Class == 'fighter':\r\n",
        "  character['stats'].append(feed_fighter(js))\r\n",
        "\r\n",
        "elif Class == 'rogue':\r\n",
        "  character['stats'].append(feed_rogue(js))\r\n",
        "\r\n",
        "else:\r\n",
        "  character['stats'].append(feed_wizard(js))"
      ],
      "execution_count": null,
      "outputs": []
    },
    {
      "cell_type": "code",
      "metadata": {
        "id": "fHTIhz_xruEH"
      },
      "source": [
        "#Define the saving throws\r\n",
        "List = jason['saving_throws']\r\n",
        "for item in List:\r\n",
        "  for item1 in character['ability']:\r\n",
        "    if item['index'] == item1['ability_score']['index']:\r\n",
        "      bonus = item1['bonus'] + character['stats'][0]['prof_bonus']\r\n",
        "      st = {'saving':item,'bonus':bonus}\r\n",
        "      character['saving_throws'].append(st)"
      ],
      "execution_count": 200,
      "outputs": []
    },
    {
      "cell_type": "code",
      "metadata": {
        "id": "qrcagVqa7SEP"
      },
      "source": [
        "#Define skill bonus in character sheet\r\n",
        "List = character['skills']\r\n",
        "for num in range(len(List)):\r\n",
        "  value = List[num]\r\n",
        "  skill = call(url+value['skill']['url'])\r\n",
        "  skill = call(url+skill['references'][0]['url'])\r\n",
        "\r\n",
        "  for item in character['ability']:\r\n",
        "    if skill['ability_score']['index'] == item['ability_score']['index']:\r\n",
        "      character['skills'][num]['bonus'] = item['bonus'] + character['stats'][0]['prof_bonus']"
      ],
      "execution_count": 201,
      "outputs": []
    },
    {
      "cell_type": "code",
      "metadata": {
        "id": "3Jq3yx2Uu2Wb"
      },
      "source": [
        "#Adding starting equipments to character sheet\r\n",
        "List = jason['starting_equipment']\r\n",
        "\r\n",
        "if List != []:\r\n",
        "  for item in List:\r\n",
        "    character['equipment'].append(item)"
      ],
      "execution_count": 202,
      "outputs": []
    },
    {
      "cell_type": "code",
      "metadata": {
        "id": "NYIplepAj0u1"
      },
      "source": [
        "#Adding class equipments to character sheet\r\n",
        "js = jason['starting_equipment_options']\r\n",
        "Class = character['classes']['index']\r\n",
        "\r\n",
        "if Class == 'cleric':\r\n",
        "  character['equipment'].extend(equipment_cleric(js))\r\n",
        "\r\n",
        "elif Class == 'fighter':\r\n",
        "  character['equipment'].extend(equipment_fighter(js))\r\n",
        "\r\n",
        "elif Class == 'rogue':\r\n",
        "  character['equipment'].extend(equipment_rogue(js))\r\n",
        "\r\n",
        "else:\r\n",
        "  character['equipment'].extend(equipment_wizard(js))"
      ],
      "execution_count": null,
      "outputs": []
    },
    {
      "cell_type": "code",
      "metadata": {
        "id": "oR1--Y3SekoT",
        "colab": {
          "base_uri": "https://localhost:8080/"
        },
        "outputId": "31f83da5-52b8-4ac3-ca3c-bd3cb53ab9dc"
      },
      "source": [
        "#Select the character alignment\n",
        "r = requests.get(\"https://www.dnd5eapi.co/api/alignments/\")\n",
        "List=json.loads(r.text)\n",
        "x = List.get('results')\n",
        "Alignment = []\n",
        "for y in range(len(x)):\n",
        "  print(x[y]['name'])\n",
        "  Alignment.append(x[y]['index'])\n",
        "\n",
        "character['alignment'] = input('Choose your character alignment from the list above: ')"
      ],
      "execution_count": 204,
      "outputs": [
        {
          "output_type": "stream",
          "text": [
            "Chaotic Evil\n",
            "Chaotic Good\n",
            "Chaotic Neutral\n",
            "Lawful Evil\n",
            "Lawful Good\n",
            "Lawful Neutral\n",
            "Neutral\n",
            "Neutral Evil\n",
            "Neutral Good\n",
            "Choose your character alignment from the list above: Chaotic Good\n"
          ],
          "name": "stdout"
        }
      ]
    },
    {
      "cell_type": "code",
      "metadata": {
        "id": "_YW97bhMl6kP"
      },
      "source": [
        "#Automatics definations from class to character sheet\r\n",
        "if character['race']['index'] == 'dwarf':\r\n",
        "  character['hit_die'].append(jason['hit_die'] + 1)\r\n",
        "else:\r\n",
        "  character['hit_die'].append(jason['hit_die'])\r\n",
        "\r\n",
        "character['hit_points'] = character['hit_die'][0] + character['ability'][2]['bonus']\r\n",
        "\r\n",
        "character['initiative'] = character['ability'][1]['bonus']"
      ],
      "execution_count": 205,
      "outputs": []
    },
    {
      "cell_type": "code",
      "metadata": {
        "id": "0NKUpLWR-_9S"
      },
      "source": [
        "#Define character armor class\r\n",
        "index = '/api/equipment-categories/armor'\r\n",
        "js = call(url + index)\r\n",
        "List = js['equipment']\r\n",
        "shield_armor = 0\r\n",
        "armor = 0\r\n",
        "\r\n",
        "for num in range(len(character['equipment'])):\r\n",
        "  item = character['equipment'][num]\r\n",
        "  for item1 in List:\r\n",
        "    if item['equipment']['index'] == item1['index']:\r\n",
        "      if item1['index'] == 'shield':\r\n",
        "        shield_url = item['equipment']['url']\r\n",
        "        shield = call(url + shield_url)\r\n",
        "        shield_armor = shield['armor_class']['base']\r\n",
        "      else:\r\n",
        "        armor_url = item['equipment']['url']\r\n",
        "        armor = call(url + armor_url)\r\n",
        "\r\n",
        "if armor == 0:\r\n",
        "  character['armor_class'] = 10 + character['ability'][1]['bonus']\r\n",
        "\r\n",
        "elif armor['armor_class']['dex_bonus'] == False:\r\n",
        "  character['armor_class'] = armor['armor_class']['base'] + shield_armor\r\n",
        "\r\n",
        "elif armor['armor_class']['max_bonus'] != None:\r\n",
        "  if character['ability'][1]['bonus'] > armor['armor_class']['max_bonus']:\r\n",
        "    character['armor_class'] = armor['armor_class']['base'] + shield_armor + armor['armor_class']['max_bonus']\r\n",
        "\r\n",
        "else:\r\n",
        "  character['armor_class'] = armor['armor_class']['base'] + shield_armor + character['ability'][1]['bonus']\r\n",
        "\r\n",
        "for item in character['stats'][0]['features']:\r\n",
        "  if item['index'] == 'fighter-fighting-style-defense':\r\n",
        "    character['armor_class'] += 1 "
      ],
      "execution_count": 206,
      "outputs": []
    },
    {
      "cell_type": "code",
      "metadata": {
        "colab": {
          "base_uri": "https://localhost:8080/"
        },
        "id": "FxUTO4fyxCE-",
        "outputId": "8b6dad48-8368-47d5-909d-62caab9f2b3a"
      },
      "source": [
        "Class = character['classes']['index']\r\n",
        "\r\n",
        "if Class == 'cleric':\r\n",
        " sheet_cleric(character)\r\n",
        "\r\n",
        "elif Class == 'fighter':\r\n",
        "  sheet_fighter(character)\r\n",
        "\r\n",
        "elif Class == 'rogue':\r\n",
        "  sheet_rogue(character)\r\n",
        "\r\n",
        "else:\r\n",
        "  sheet_wizard(character)"
      ],
      "execution_count": 213,
      "outputs": [
        {
          "output_type": "stream",
          "text": [
            "character_name: Drezon\n",
            "\n",
            "race: Elf\n",
            "\n",
            "subrace: High Elf\n",
            "\n",
            "ability:\n",
            "   Strength: 15 (2)\n",
            "   Dexterity: 8 (-1)\n",
            "   Constitution: 14 (2)\n",
            "   Intelligence: 13 (1)\n",
            "   Wisdom: 15 (2)\n",
            "   Charisma: 14 (2)\n",
            "\n",
            "speed: 30\n",
            "\n",
            "alignment: Chaotic Good\n",
            "\n",
            "size: Medium\n",
            "\n",
            "proficiencies:\n",
            "   Longswords\n",
            "   Shortswords\n",
            "   Shortbows\n",
            "   Longbows\n",
            "   Light armor\n",
            "   Medium armor\n",
            "   Shields\n",
            "   Simple weapons\n",
            "\n",
            "languages:\n",
            "   Common\n",
            "   Elvish\n",
            "   Gnomish\n",
            "\n",
            "skills:\n",
            "   Skill: Perception: 4\n",
            "   Skill: History: 3\n",
            "   Skill: Insight: 4\n",
            "\n",
            "traits:\n",
            "   Darkvision\n",
            "   Fey Ancestry\n",
            "   Trance\n",
            "   Elf Weapon Training\n",
            "   High Elf Cantrip: Mending\n",
            "\n",
            "classes: Cleric\n",
            "\n",
            "hit_die: 8\n",
            "\n",
            "hit_points: 10\n",
            "\n",
            "experience_points: 0\n",
            "\n",
            "armor_class: 0\n",
            "\n",
            "stats:\n",
            "   level: 1\n",
            "\n",
            "   ability_score_bonuses: 0\n",
            "\n",
            "   prof_bonus: 2\n",
            "\n",
            "   features: \n",
            "       Spellcasting\n",
            "       Divine Domain\n",
            "       Domain Spells 1\n",
            "       Bonus Proficiency\n",
            "       Disciple of Life\n",
            "\n",
            "   spellcasting: \n",
            "       cantrips_known: 3\n",
            "       spells_known: 3\n",
            "       spell_slots_level_1: 2\n",
            "       spell_slots_level_2: 0\n",
            "       spell_slots_level_3: 0\n",
            "       spell_slots_level_4: 0\n",
            "       spell_slots_level_5: 0\n",
            "       spell_slots_level_6: 0\n",
            "       spell_slots_level_7: 0\n",
            "       spell_slots_level_8: 0\n",
            "       spell_slots_level_9: 0\n",
            "\n",
            "   spell_list: \n",
            "       cantrips_list: \n",
            "                            Guidance\n",
            "                            Light\n",
            "                            Mending\n",
            "       spell_list_level_1: \n",
            "                            Animal Friendship\n",
            "                            Bane\n",
            "                            Bless\n",
            "                            Command\n",
            "                            Create or Destroy Water\n",
            "                            Cure Wounds\n",
            "                            Detect Evil and Good\n",
            "                            Detect Magic\n",
            "                            Detect Poison and Disease\n",
            "                            Guiding Bolt\n",
            "                            Healing Word\n",
            "                            Inflict Wounds\n",
            "                            Protection from Evil and Good\n",
            "                            Purify Food and Drink\n",
            "                            Sanctuary\n",
            "                            Shield of Faith\n",
            "       spell_list_level_2: \n",
            "       spell_list_level_3: \n",
            "       spell_list_level_4: \n",
            "       spell_list_level_5: \n",
            "       spell_list_level_6: \n",
            "       spell_list_level_7: \n",
            "       spell_list_level_8: \n",
            "       spell_list_level_9: \n",
            "\n",
            "   class_specific: \n",
            "                 channel_divinity_charges: 0\n",
            "                 destroy_undead_cr: 0\n",
            "\n",
            "\n",
            "initiative: -1\n",
            "\n",
            "saving_throws:\n",
            "   WIS: 4\n",
            "   CHA: 4\n",
            "   WIS: 4\n",
            "   CHA: 4\n",
            "\n",
            "equipment:\n",
            "   Shield quantity: 1\n",
            "   Mace quantity: 1\n",
            "   Scale Mail quantity: 1\n",
            "   Crossbow, light quantity: 1\n",
            "   Crossbow bolt quantity: 20\n",
            "   Priest's Pack quantity: 1\n",
            "   Amulet quantity: 1\n",
            "\n"
          ],
          "name": "stdout"
        }
      ]
    }
  ]
}